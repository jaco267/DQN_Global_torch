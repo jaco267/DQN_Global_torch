{
 "cells": [
  {
   "cell_type": "code",
   "execution_count": null,
   "metadata": {
    "vscode": {
     "languageId": "shellscript"
    }
   },
   "outputs": [],
   "source": [
    "python train.py --algos=dtqn_per_noisy --self_play_episode_num=4 --result_dir=solutionsDRL\\\n",
    "  --save_ckpt=True --data_folder=\"train_data_/benchmark_reduced\"\n",
    "python train.py --algos=dtqn_per_noisy --self_play_episode_num=150 --result_dir=solutionsDRL\\\n",
    "  --save_ckpt=False  --data_folder=\"test_data_/benchmark_reduced\"\n"
   ]
  },
  {
   "cell_type": "code",
   "execution_count": null,
   "metadata": {
    "vscode": {
     "languageId": "shellscript"
    }
   },
   "outputs": [],
   "source": [
    "python train.py --algos=dtqn_per --self_play_episode_num=10 --result_dir=solutionsDRL\\\n",
    "  --save_ckpt=True --data_folder=\"train_data_/benchmark_reduced\"\n",
    "python train.py --algos=dtqn_per --self_play_episode_num=150 --result_dir=solutionsDRL\\\n",
    "  --save_ckpt=False  --data_folder=\"test_data_/benchmark_reduced\""
   ]
  },
  {
   "cell_type": "code",
   "execution_count": null,
   "metadata": {
    "vscode": {
     "languageId": "shellscript"
    }
   },
   "outputs": [],
   "source": [
    "python train.py --algos=dtqn --self_play_episode_num=10 --result_dir=solutionsDRL\\\n",
    "  --save_ckpt=True --data_folder=\"train_data_/benchmark_reduced\"\n",
    "python train.py --algos=dtqn --self_play_episode_num=150 --result_dir=solutionsDRL\\\n",
    "  --save_ckpt=False  --data_folder=\"test_data_/benchmark_reduced\""
   ]
  },
  {
   "cell_type": "markdown",
   "metadata": {},
   "source": [
    "## training result\n",
    "### nstep normal NN\n",
    "nstep normal nn is not suit for pretraining \n",
    "pin complete rate 11/20  (but the wirelength is nice )\n",
    "\n",
    "#### n_step_pretrain4x5_pin11_20_trainStep_150  \n",
    "train_data has only  5 test benchmark\n",
    "```sh\n",
    "python train.py --algos=nstep --self_play_episode_num=4 --result_dir=solutionsDRL_nstep  --save_ckpt=True --data_folder=\"train_data_/benchmark_reduced\"\n",
    "python train.py --algos=nstep --self_play_episode_num=150 --result_dir=solutionsDRL_nstep  --save_ckpt=False  --data_folder=\"test_data_/benchmark_reduced\"\n",
    "python Evaluation.py --sol_dir=solutionsDRL_nstep\n",
    "python VisualizeResults.py \n",
    "``` \n",
    "pin : [1, 2, 3, 4, 6, 8, 10, 11, 12, 13, 17]   \n",
    "<img src=\"assets/2023-07-26-15-45-37.png\" alt= “” width=\"500px\" >"
   ]
  },
  {
   "cell_type": "markdown",
   "metadata": {},
   "source": [
    "#### n_step_no_pretrain_pin13_20_trainStep_150  \n",
    "no pretrain\n",
    "```sh\n",
    "python train.py --algos=nstep --self_play_episode_num=150 --result_dir=solutionsDRL  --save_ckpt=False  --data_folder=\"test_data_/benchmark_reduced\"\n",
    "``` \n",
    "pin : [1, 2, 3, 4, 6, 8, 9, 11, 12, 13, 15, 16, 17]\n",
    "<img src=\"assets/2023-07-26-20-44-45.png\" alt= “” width=\"500px\" >\n",
    "\n",
    "#### n_step_test_and_save"
   ]
  },
  {
   "cell_type": "code",
   "execution_count": null,
   "metadata": {
    "vscode": {
     "languageId": "shellscript"
    }
   },
   "outputs": [],
   "source": [
    "python train.py --algos=nstep --self_play_episode_num=150 --result_dir=solutionsDRL_nstep_test_and_save  --load_ckpt=True --save_ckpt=True  --data_folder=\"test_data_/benchmark_reduced\" --wandbName=\"nstep_test_and_save\""
   ]
  },
  {
   "cell_type": "markdown",
   "metadata": {},
   "source": [
    "<img src=\"assets/2023-07-27-13-29-30.png\" alt= “” width=\"500px\" >"
   ]
  },
  {
   "cell_type": "markdown",
   "metadata": {},
   "source": [
    "#### n_step_no_pretrain_pin??_20_trainStep_150_deep_5lay_64_dim  \n",
    "pretty bad  and slow\n",
    "only have 2,3  in 1,2,3,4,5"
   ]
  },
  {
   "cell_type": "code",
   "execution_count": null,
   "metadata": {
    "vscode": {
     "languageId": "shellscript"
    }
   },
   "outputs": [],
   "source": [
    "python train.py --algos=nstep --self_play_episode_num=150 --result_dir=solutionsDRL_nstep_deep  --load_ckpt=False --save_ckpt=False  --data_folder=\"test_data_/benchmark_reduced\" --wandbName=\"nstep_32_64*3_32\" --hid_layer=3"
   ]
  },
  {
   "cell_type": "markdown",
   "metadata": {},
   "source": [
    "#### dtqn noisy pretrain emb_dim 64 layer2\n",
    "train result of nstep   4episode each pin run  -->  5th pin run   46/47   and trigger early stopping\n",
    "train result of dtqn                                              3/47  :(\n",
    "\n",
    "```sh\n",
    "python train.py --algos=dtqn_per_noisy --self_play_episode_num=4 --result_dir=solutionsDRL_dtqn  --save_ckpt=True --data_folder=\"train_data_/benchmark_reduced\"\n",
    "python train.py --algos=dtqn_per_noisy --self_play_episode_num=150 --result_dir=solutionsDRL_dtqn  --save_ckpt=False  --data_folder=\"test_data_/benchmark_reduced\"\n",
    "``` \n",
    "#### dtqn noisy save and test  emb_dim 64 layer2\n",
    "pretty bad\n",
    "first epoch only  42/55\n",
    "I think because dtqn is data hungry, it needs more episode to train (150 is not enough) \n",
    "and it gets  high score in second episode\n",
    "2nd  episode  47/47\n",
    "```sh\n",
    "python train.py --algos=dtqn_per_noisy --self_play_episode_num=150 --result_dir=solutionsDRL  --save_ckpt=True  --data_folder=\"test_data_/benchmark_reduced\"\n",
    "```\n",
    "pin [2, 3, 4, 5, 8, 10, 12, 13, 15, 16, 17]      \n",
    "<img src=\"assets/2023-07-27-07-39-06.png\" alt= “” width=\"500px\" >"
   ]
  },
  {
   "cell_type": "markdown",
   "metadata": {},
   "source": [
    "### dtqn test and save\n",
    ",embed_dim = 64,context_len=50,num_heads=8\n",
    "num_layers = 3   \n",
    "\n",
    "pretty bad   \n",
    "   todo,   put dim into config   \n",
    "<img src=\"assets/2023-07-27-14-40-30.png\" alt= “” width=\"400px\" >"
   ]
  },
  {
   "cell_type": "code",
   "execution_count": null,
   "metadata": {
    "vscode": {
     "languageId": "shellscript"
    }
   },
   "outputs": [],
   "source": [
    "python train.py --algos=dtqn_per_noisy --self_play_episode_num=150 --result_dir=solutionsDRL_dtqn_noisy_test_and_save  --load_ckpt=True --save_ckpt=True  --data_folder=\"test_data_/benchmark_reduced\" --wandbName=\"dtqn_noisy_test_and_save\""
   ]
  },
  {
   "cell_type": "markdown",
   "metadata": {},
   "source": [
    "#### dtqn epsilon from_scratch"
   ]
  },
  {
   "cell_type": "code",
   "execution_count": null,
   "metadata": {
    "vscode": {
     "languageId": "shellscript"
    }
   },
   "outputs": [],
   "source": [
    "python train.py --algos=dtqn_per --self_play_episode_num=150 --result_dir=solutionsDRL  --save_ckpt=False  --data_folder=\"test_data_/benchmark_reduced\""
   ]
  },
  {
   "cell_type": "markdown",
   "metadata": {},
   "source": [
    "## [Deep Reinforcement Learning Global Routing](https://github.com/haiguanl/DQN_GlobalRouting)\n",
    "### preprocessing"
   ]
  },
  {
   "cell_type": "code",
   "execution_count": null,
   "metadata": {
    "vscode": {
     "languageId": "shellscript"
    }
   },
   "outputs": [],
   "source": [
    "# python gen_data.py --benchmarkNumber 1 --gridSize 8 --netNum 2000 --vCap 4  --hCap 4 --maxPinNum 5 --reducedCapNum 3 --prefix ./train_data_/\n",
    "python gen_data.py --benchmarkNumber 5 --gridSize 8 --netNum 20 --vCap 4  --hCap 4 --maxPinNum 5 --reducedCapNum 3 --prefix ./train_data_/"
   ]
  },
  {
   "cell_type": "code",
   "execution_count": null,
   "metadata": {
    "vscode": {
     "languageId": "shellscript"
    }
   },
   "outputs": [],
   "source": [
    "#                                    100\n",
    "python gen_data.py --benchmarkNumber 20 --gridSize 8 --netNum 20 --vCap 4  --hCap 4 --maxPinNum 5 --reducedCapNum 3 --prefix ./test_data_/"
   ]
  },
  {
   "cell_type": "markdown",
   "metadata": {},
   "source": [
    "### start training"
   ]
  },
  {
   "cell_type": "code",
   "execution_count": null,
   "metadata": {
    "vscode": {
     "languageId": "shellscript"
    }
   },
   "outputs": [],
   "source": [
    "# algos option  [DQN,DDQN,duel_DDQN,duel_DDQN_PER,noisy,noisy_test,categorical,cat_test,nstep]\n",
    "python train.py --algos=nstep --self_play_episode_num=10 --result_dir=solutionsDRL\\\n",
    "  --save_ckpt=True --data_folder=\"train_data_/benchmark_reduced\"\n",
    "                                                    "
   ]
  },
  {
   "cell_type": "markdown",
   "metadata": {},
   "source": [
    "### start testing"
   ]
  },
  {
   "cell_type": "code",
   "execution_count": null,
   "metadata": {
    "vscode": {
     "languageId": "shellscript"
    }
   },
   "outputs": [],
   "source": [
    "# algos option  [DQN,DDQN,duel_DDQN,duel_DDQN_PER,noisy,noisy_test,categorical,cat_test,nstep]\n",
    "                                                 #10000\n",
    "python train.py --algos=nstep --self_play_episode_num=150 --result_dir=solutionsDRL\\\n",
    "  --save_ckpt=False  --data_folder=\"test_data_/benchmark_reduced\"\n",
    "                                                  "
   ]
  },
  {
   "cell_type": "markdown",
   "metadata": {},
   "source": [
    "performance (roughly)   \n",
    "nstep>noisy=noisy_test>others"
   ]
  },
  {
   "cell_type": "markdown",
   "metadata": {},
   "source": [
    "### show results"
   ]
  },
  {
   "cell_type": "code",
   "execution_count": null,
   "metadata": {
    "vscode": {
     "languageId": "shellscript"
    }
   },
   "outputs": [],
   "source": [
    "cd eval\n",
    "python Evaluation.py\n",
    "python VisualizeResults.py   # checkout VisualizResult"
   ]
  },
  {
   "attachments": {},
   "cell_type": "markdown",
   "metadata": {},
   "source": [
    "Arguments definitions:\n",
    "- benchNumber: number of problems in the experiment\n",
    "- grid size: size of a problem, e.g. 8 means the problem space is on an 8-by-8 two layers routing area\n",
    "- netNum: number of nets that will needs to be routed\n",
    "- capacity: edge capacity for problem (check paper for details)\n",
    "- maxPinNum: max number of pins in a net, the number of pins in one net follows a uniform distribution between [0,maxPinNum]\n",
    "- reducedCapNum: number of edges that has reduced capacity (blolcked or partially blocked, check problem genrator part of the code for details and make modification to your needs: for example, do you want to block edges randomly or just block high congestion area)\n",
    "\n",
    "\n",
    "### training results\n",
    "\n"
   ]
  },
  {
   "cell_type": "markdown",
   "metadata": {},
   "source": [
    "## 3. Results Evaluation\n",
    "To evaluate the results by yourself, check one of our sample result folder such as \"ExperimentResults/Results_Apr1119_Shuffle02\". There you will find following folders:\n",
    "- capacityPlot_A*: reults like edge utilization statitstics before and after A* route, or heat map, for generated problems without any edges blocked\n",
    "- capacityPlot_A*_reduced:reults like edge utilization statitstics before and after A* route, or heat map,  for generated problems with specified edges blockage\n",
    "- eval: this is the real results evaluation, which can be executed by run \"Evaluation.py\" and it will call \"\"eval200.pl\" (from ISPD 2008 Contest). Before evaluate, make sure you have put problem files (such as \"test_benchmark_74.gr\", this is also the same format as ISPD2 2008 Contest) and solution file (such as \"test_benchmark_74.grAstar_solution\") into the same folder."
   ]
  },
  {
   "attachments": {},
   "cell_type": "markdown",
   "metadata": {},
   "source": [
    "$$\n",
    "z \\sim P(\\odot \\vert x_{t-1}, a_{t-1}). a_t \\sim pi(\\odot \\vert x_t), x_0 = x, a_0 =a\n",
    "$$"
   ]
  },
  {
   "attachments": {},
   "cell_type": "markdown",
   "metadata": {},
   "source": [
    "[\"A Deep Reinforcement Learning Approach for Global Routing\"](https://arxiv.org/pdf/1906.08809.pdf)\n",
    "\n",
    "It uses deep Q-learning (DQN) to solve the challenging global routing problem by leveraging the \"conjoint optimization\" mechanism  of DQN.  \n",
    "Superior performance compared to A* search (which is a typical baseline routing algorithm) in certain types of problems. \n",
    "As shown in the picture, the pipeline consists of \n",
    "\n",
    "- problem sets generator (see  haiguanl/GlobalRoutingProblemGenerator for deatails)\n",
    "- multipin decomposition\n",
    "- A*Search Router\n",
    "- DQN Router"
   ]
  },
  {
   "attachments": {},
   "cell_type": "markdown",
   "metadata": {},
   "source": [
    "<p align=\"center\">\n",
    "<img src=\"Fig/Pipeline.png\" alt=\"drawing\" width=\"800\">\n",
    "</p>"
   ]
  },
  {
   "attachments": {},
   "cell_type": "markdown",
   "metadata": {},
   "source": [
    "Two types problems are defined to analyze the results (Type I/Type II). Some basic definitions and why DQN works better than A* in Type II problems are shown below. Interestingly, most circuits design problems could be ascribeed as Type II, where the most important feature is that routing resource is scarce (some edges's capacity used up during routing). \n",
    "\n"
   ]
  },
  {
   "attachments": {},
   "cell_type": "markdown",
   "metadata": {},
   "source": [
    "<p align=\"center\">\n",
    "<img src=\"Fig/TwoTypeProblem.png\" alt=\"drawing\" width=\"800\">\n",
    "</p>"
   ]
  },
  {
   "attachments": {},
   "cell_type": "markdown",
   "metadata": {},
   "source": [
    "\n",
    "<p align=\"center\">\n",
    "<img src=\"Fig/ExplainTwoType.png\" alt=\"drawing\" width=\"800\">\n",
    "</p>\n"
   ]
  },
  {
   "attachments": {},
   "cell_type": "markdown",
   "metadata": {},
   "source": [
    "## Global Routing Problem\n",
    "The global routing problem can be modeled as a grid graph `G(V, E)`, where each vertex v<sub>i</sub> represents a rectangular region of the chip, so called a global routing cell (Gcell) or global routing tile, and an edge e<sub>ij</sub> represents the boundary between v<sub>i</sub> and v<sub>j</sub> with a given maximum routing resource m<sub>ij</sub>.  Figure below shows how the chip can be abstracted into a grid graph where m<sub>AB</sub> = 3. A global routing is to find paths that connect the pins inside the Gcells through `G(V, E)` for every net.\n"
   ]
  },
  {
   "attachments": {},
   "cell_type": "markdown",
   "metadata": {},
   "source": [
    "## Benchmarks\n",
    "The benchmarks (present in ./benchmarks) are taken from a subset of the ones in ISPD global routing contests. The core idea is to formulate the routing problem outside the Virtuoso environment to facilitate algorithm development. The optimization objective function will be congestion and wirelength:\n",
    "- **Congestion**: Minimum total overflow for all benchmarks. Each benchmark will have a number of edges between global routing tiles; each of these edges will have a capacity. All nets must be routed within the global routing graph, ideally with no graph edge exceeding the specified capacity. Mathematically, `congestion = max(0,utilization-capacity)`.\n",
    "- **Minimum wirelength**: If two routing solutions achieve the same capacity constraint, the one with smaller wirelength will be a better solution. Wirelength will be measured based on number of tile-to-tile connections.\n"
   ]
  },
  {
   "attachments": {},
   "cell_type": "markdown",
   "metadata": {},
   "source": [
    "\n",
    "\n",
    "## Input Format\n",
    "The input file format is a variation of *Labyrinth* format. \n",
    "\n",
    "| Source line | Example `./benchmarks/small.gr` | Explanation |\n",
    "| :---------- | :---------: | ----------: |\n",
    "| grid <> <> <> | grid 3 3 2 | x grids (#gcells), y grids(#gcells), number of routing layers | \n",
    "| vertical capacity <> <> ... | vertical capacity 0 1 | max allowed vertical capacity for a gcell on each layer (in length units) **See note 1** | \n",
    "| horizontal capacity <> <> ... | horizontal capacity 1 0 | max allowed horizontal capacity for a gcell on each layer (in length units) | \n",
    "| minimum width <> <> ...  | minimum width 1 1 | minimum width of track on each layer (in length units) |\n",
    "| minimum spacing <> <> ... | minimum spacing 0 0 | minimum spacing between tracks on each layer (in length units) |  \n",
    "| via spacing <> <> ... | via spacing 0 0 | via spacing on each layer (in length units) | \n",
    "| <> <> <> <> | 0 0 10 10 | Origin coordinates on lower left followed by (grid/)tile width and height (in length units) | \n",
    "| *newline* | *newline* | Optional *newline* |\n",
    "| num net <> | num_net 1 | number of nets in the netlist of the design | \n",
    "| <> <> <> <> | A 0 2 1 | net_name, net_id, number_of_pins, minimum_width (override layer specification). Iterate over nets |\n",
    "| <> <> <> | 5 5 1 | pin coordinates in terms of x, y, layer. **See note 4** |\n",
    "| <> <> <> | 25 5 1 | another example of pin coordinates. Iterate over pins |\n",
    "| <> | 4 | # adjustments depicting reduced capacity (again overrides layer specification) **See note 6** |\n",
    "| <> <> <> <> <> <> <> | 1 0 1   2 0 1   0 | coordinates of the gcells that form this edge (x,y,layer), along with the adjusted capacity (in length units) |\n",
    "  \n",
    "\n",
    "### Notes:\n",
    "1. `Max tracks possible = capacity/(width+spacing)`\n",
    "\n",
    "2. Each layer may have a unique capacity in each direction per global routing tile, and it may be different for horizontal and vertical directions. Preferred routing directions will be given by having a zero capacity in the non-preferred direction. In the vertical and horizontal capacity lines, the first number indicates the capacity on the first layer, the second number the second layer, and so on. Minimum wire widths and minimum wire spacings are also specified; this impacts capacity calculations as shown in the earlier note.\n",
    "\n",
    "3. The lower left corner (minimum X and Y) of the global routing region is specified, as well as the width (X dimension) and height (Y dimension) of each tile.\n",
    "\n",
    "4. Additionally, pin positions are given in terms of absolute length, rather than tile/grid coordinates. Conversion from pin positions to tile numbers can be done with `floor(pin_x - lower_left_x)/tile_width` and `floor (pin_y - lower_left_y)/tile_height`. Pins will not be on the borders of global routing cells, so there should be no ambiguity. All pins will be within the specified global routing region.\n",
    "\n",
    "5. Each net will have a minimum routed width; this width will span all layers. When routing, compute the utilization of a global routing graph edge by adding the widths of all nets crossing and edge, plus the minimum spacing multiplied by the number of nets. Each wire will require spacing between it's neighbors; think of this as having one-half of the minimum spacing reserved on each side of a wire.\n",
    "\n",
    "6. Congestion is modeled by including capacity adjustments. In the global routing benchmarks, there may be obstacles, or pre-routed wires. To communicate this to the global router, pairs of (adjacent) global routing tiles may have a capacity that is different from the default values specified at the start of a benchmark file.\n",
    "\n",
    "7. Calculation of capacity is more complex than is done in typical academic global routing tools. Each global routing tile will have a capacity; this is a measure of the available space, not the number of global routing tracks. If the minimum wire width is 20, the minimum spacing 10, and the capacity of a tile is given as 450, this corresponds to 15 minimum width tracks (15 * (20 + 10)) . Therefore, capacity here will have the dimensions of length. The capacity specified as the default value may be different than the width or height of a tile. In general, it is desirable to have routing utilization of a tile be below the capacity, as higher utilization can be more difficult for detail routers to complete. \n",
    "\n",
    "## Output Format\n",
    "The output format is a variation of the `BoxRouter format`. See `./benchmarks/small.solution` for an example. \n",
    "\n",
    "| Source line | Example `./benchmarks/small.solutions` | Explanation |\n",
    "| :---------- | :---------: | ----------: |\n",
    "| <> <> <> | A 0 14 | netname, net id, number of tracks. Iterate over nets |\n",
    "| (<>,<>,<>)-(<>,<>,<>) | (5,5,1)-(15,5,1) | track/connection from coordinates of one gcell to the other. Iterate over tracks |\n",
    "\n",
    "\n",
    "## Example\n",
    "An illustration on a small example benchmark (./benchmarks/small.gr) is provided below.  \n",
    "![alt text](small.png?raw=true \"Example\")  \n",
    "\n",
    "## Evaluation\n",
    "A script to evaluate the routing solution in terms of capacity overflow and wirelength is present at ./evaluation/eval2008.pl\n",
    "\n",
    "## Ideas for Solution\n",
    "Routing for a two-pin net can be done with a general purpose algorithm such as A\\*-search. For multi-pin nets (more than two pins), one approach could be decompose the net into two-pin nets and then route those two-pin nets. One decomposition could be done by an MST algorithm like Prim (polynomial time), but this may lead to suboptimal solutions. A rectilinear steiner minimum tree (NP-hard), on the other hand may yield a better solution. As an example, a 4-pin net and its Minimum Spanning Tree routing is shown below.  \n",
    "![alt text](./mst.png?raw=true \"4-pin net and MST\")  \n",
    "\n",
    "Rectilinear Steiner Minimum tree routing of the net is shown below  \n",
    "![alt text](rsmt.png?raw=true \"RSMT\")  \n"
   ]
  }
 ],
 "metadata": {
  "language_info": {
   "name": "python"
  },
  "orig_nbformat": 4
 },
 "nbformat": 4,
 "nbformat_minor": 2
}
