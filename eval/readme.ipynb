{
 "cells": [
  {
   "cell_type": "code",
   "execution_count": null,
   "metadata": {
    "vscode": {
     "languageId": "shellscript"
    }
   },
   "outputs": [],
   "source": [
    "$ python Evaluation.py\n",
    "$ python VisualizeResults.py"
   ]
  },
  {
   "attachments": {},
   "cell_type": "markdown",
   "metadata": {},
   "source": [
    "to run eval   \n",
    "put /benchmark_reduced/test_bencmark_i.gr\n",
    "    /solutionsA*_reduced/test_benchmark_i.grAstar_solution\n",
    "    /solutionsDRL/test_benchmark_i.DRL_solution\n",
    "in the eval folder"
   ]
  }
 ],
 "metadata": {
  "language_info": {
   "name": "python"
  },
  "orig_nbformat": 4
 },
 "nbformat": 4,
 "nbformat_minor": 2
}
