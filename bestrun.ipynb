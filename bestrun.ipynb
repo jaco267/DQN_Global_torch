{
 "cells": [
  {
   "cell_type": "markdown",
   "metadata": {},
   "source": [
    "#### n_step_test_and_save\n",
    "nstep_pin18_20_test_and_save  \n",
    "<img src=\"assets/2023-07-27-13-29-30.png\" alt= “” width=\"500px\" >"
   ]
  },
  {
   "cell_type": "code",
   "execution_count": null,
   "metadata": {
    "vscode": {
     "languageId": "shellscript"
    }
   },
   "outputs": [],
   "source": [
    "python train.py --algos=nstep --self_play_episode_num=150 --result_dir=solutionsDRL_nstep_test_and_save  --load_ckpt=True --save_ckpt=True  --data_folder=\"test_data_/benchmark_reduced\" --wandbName=\"nstep_test_and_save\""
   ]
  },
  {
   "cell_type": "markdown",
   "metadata": {},
   "source": [
    "## dtqn\n",
    "dtqn need to pretain in order to filled it's buffer\n",
    "### noisy\n",
    "#### pretrain"
   ]
  },
  {
   "cell_type": "code",
   "execution_count": null,
   "metadata": {
    "vscode": {
     "languageId": "shellscript"
    }
   },
   "outputs": [],
   "source": [
    "python train.py --algos=dtqn_per_noisy --self_play_episode_num=4 --result_dir=solutionsDRL_dtqn_per_noisy_3x64 --load_ckpt=True --save_ckpt=True  --data_folder=\"train_data_/benchmark_reduced\" --wandbName=\"dtqn_noisy_pretrain_3x64_early_stop\" --hid_layer=3 --emb_dim=64 --early_stop=True\n",
    "#"
   ]
  },
  {
   "cell_type": "markdown",
   "metadata": {},
   "source": [
    "#### pretrain 128"
   ]
  },
  {
   "cell_type": "markdown",
   "metadata": {},
   "source": [
    "### context_len==5 looks super good\n",
    "### context_len_5  train and save\n",
    "have already pretrained for 3 epoch in train_data (self_play 150)\n"
   ]
  },
  {
   "cell_type": "code",
   "execution_count": null,
   "metadata": {
    "vscode": {
     "languageId": "shellscript"
    }
   },
   "outputs": [],
   "source": [
    "python train.py --algos=dtqn_per_noisy --self_play_episode_num=150 --result_dir=solutionsDRL --load_ckpt=True --save_ckpt=True  --data_folder=\"test_data_/benchmark_reduced\" --wandbName=\"dtqn_per_noisy_context_len5\" --hid_layer=3 --emb_dim=64 --context_len=5"
   ]
  }
 ],
 "metadata": {
  "language_info": {
   "name": "python"
  },
  "orig_nbformat": 4
 },
 "nbformat": 4,
 "nbformat_minor": 2
}
